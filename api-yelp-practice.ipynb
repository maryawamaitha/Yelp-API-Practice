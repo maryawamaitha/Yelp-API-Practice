{
 "cells": [
  {
   "cell_type": "code",
   "execution_count": 1,
   "id": "a28453f2",
   "metadata": {},
   "outputs": [
    {
     "data": {
      "text/plain": [
       "dict_keys(['client-id', 'api-key'])"
      ]
     },
     "execution_count": 1,
     "metadata": {},
     "output_type": "execute_result"
    }
   ],
   "source": [
    "import json\n",
    "with open('/Users/marya/.secret/yelp_api.json') as f: #change the path to match YOUR path!!\n",
    "    login = json.load(f)\n",
    "login.keys()"
   ]
  },
  {
   "cell_type": "code",
   "execution_count": 2,
   "id": "b32a5af6",
   "metadata": {},
   "outputs": [
    {
     "data": {
      "text/plain": [
       "<yelpapi.yelpapi.YelpAPI at 0x27055f32f08>"
      ]
     },
     "execution_count": 2,
     "metadata": {},
     "output_type": "execute_result"
    }
   ],
   "source": [
    "from yelpapi import YelpAPI\n",
    "yelp_api = YelpAPI(login['api-key'], timeout_s=5.0)\n",
    "yelp_api"
   ]
  },
  {
   "cell_type": "code",
   "execution_count": 4,
   "id": "470daf9e",
   "metadata": {},
   "outputs": [
    {
     "data": {
      "text/plain": [
       "dict"
      ]
     },
     "execution_count": 4,
     "metadata": {},
     "output_type": "execute_result"
    }
   ],
   "source": [
    "# Open the jsonfile and display the first level of keys\n",
    "# open API results WITH json module\n",
    "import json\n",
    "with open(r'C:\\Users\\marya\\Downloads\\example_yelp_results.json') as f:   #adjust for your path\n",
    "    json_file = json.load(f)\n",
    "    \n",
    "## What type is top-level of json?\n",
    "type(json_file)\n"
   ]
  },
  {
   "cell_type": "markdown",
   "id": "297137f5",
   "metadata": {},
   "source": [
    "# what are the keys?"
   ]
  },
  {
   "cell_type": "code",
   "execution_count": 5,
   "id": "f6dfbdb6",
   "metadata": {},
   "outputs": [
    {
     "data": {
      "text/plain": [
       "dict_keys(['businesses', 'total', 'region'])"
      ]
     },
     "execution_count": 5,
     "metadata": {},
     "output_type": "execute_result"
    }
   ],
   "source": [
    "json_file.keys()"
   ]
  },
  {
   "cell_type": "markdown",
   "id": "87dc9aac",
   "metadata": {},
   "source": [
    "# what type is region?"
   ]
  },
  {
   "cell_type": "code",
   "execution_count": 6,
   "id": "3f272298",
   "metadata": {},
   "outputs": [
    {
     "data": {
      "text/plain": [
       "dict"
      ]
     },
     "execution_count": 6,
     "metadata": {},
     "output_type": "execute_result"
    }
   ],
   "source": [
    "type(json_file['region'])\n"
   ]
  },
  {
   "cell_type": "code",
   "execution_count": 7,
   "id": "d52c0084",
   "metadata": {},
   "outputs": [
    {
     "data": {
      "text/plain": [
       "dict_keys(['center'])"
      ]
     },
     "execution_count": 7,
     "metadata": {},
     "output_type": "execute_result"
    }
   ],
   "source": [
    "# what keys are in region?\n",
    "json_file['region'].keys()"
   ]
  },
  {
   "cell_type": "code",
   "execution_count": 8,
   "id": "88a059c7",
   "metadata": {},
   "outputs": [
    {
     "data": {
      "text/plain": [
       "dict"
      ]
     },
     "execution_count": 8,
     "metadata": {},
     "output_type": "execute_result"
    }
   ],
   "source": [
    "# what type is center?\n",
    "type(json_file['region']['center'])"
   ]
  },
  {
   "cell_type": "code",
   "execution_count": 9,
   "id": "6fabf16c",
   "metadata": {},
   "outputs": [
    {
     "data": {
      "text/plain": [
       "dict_keys(['longitude', 'latitude'])"
      ]
     },
     "execution_count": 9,
     "metadata": {},
     "output_type": "execute_result"
    }
   ],
   "source": [
    "# what are the keys in center?\n",
    "json_file['region']['center'].keys()"
   ]
  },
  {
   "cell_type": "code",
   "execution_count": 10,
   "id": "bbcc4b81",
   "metadata": {},
   "outputs": [
    {
     "data": {
      "text/plain": [
       "{'longitude': -76.607666015625, 'latitude': 39.29617825404647}"
      ]
     },
     "execution_count": 10,
     "metadata": {},
     "output_type": "execute_result"
    }
   ],
   "source": [
    "# Visualize the whole center dict, since lat and long are likely single values\n",
    "json_file['region']['center']"
   ]
  },
  {
   "cell_type": "markdown",
   "id": "a1232e28",
   "metadata": {},
   "source": [
    "# Exploring Total"
   ]
  },
  {
   "cell_type": "code",
   "execution_count": 11,
   "id": "5f4d7366",
   "metadata": {},
   "outputs": [
    {
     "data": {
      "text/plain": [
       "int"
      ]
     },
     "execution_count": 11,
     "metadata": {},
     "output_type": "execute_result"
    }
   ],
   "source": [
    "# what is stored under the \"total\" key?\n",
    "type(json_file['total'])"
   ]
  },
  {
   "cell_type": "code",
   "execution_count": 12,
   "id": "5eda06fa",
   "metadata": {},
   "outputs": [
    {
     "data": {
      "text/plain": [
       "435"
      ]
     },
     "execution_count": 12,
     "metadata": {},
     "output_type": "execute_result"
    }
   ],
   "source": [
    "## what is the value?\n",
    "json_file['total']"
   ]
  },
  {
   "cell_type": "markdown",
   "id": "4cf81841",
   "metadata": {},
   "source": [
    "there were 435 total results for this Yelp search."
   ]
  },
  {
   "cell_type": "markdown",
   "id": "ef5cd696",
   "metadata": {},
   "source": [
    "# explore business"
   ]
  },
  {
   "cell_type": "code",
   "execution_count": 13,
   "id": "0eedec49",
   "metadata": {},
   "outputs": [
    {
     "data": {
      "text/plain": [
       "list"
      ]
     },
     "execution_count": 13,
     "metadata": {},
     "output_type": "execute_result"
    }
   ],
   "source": [
    "# what is in in the businesses key?\n",
    "type(json_file['businesses'])"
   ]
  },
  {
   "cell_type": "code",
   "execution_count": 14,
   "id": "8689c58e",
   "metadata": {},
   "outputs": [
    {
     "data": {
      "text/plain": [
       "{'id': 'D9A33FM394q99o4QtK5YwA',\n",
       " 'alias': 'faidleys-seafood-baltimore-3',\n",
       " 'name': 'Faidleys Seafood',\n",
       " 'image_url': 'https://s3-media3.fl.yelpcdn.com/bphoto/OTjVDCVS7pGopH6GZcfjBA/o.jpg',\n",
       " 'is_closed': False,\n",
       " 'url': 'https://www.yelp.com/biz/faidleys-seafood-baltimore-3?adjust_creative=KJtcufKUS887p24u6rjVIQ&utm_campaign=yelp_api_v3&utm_medium=api_v3_business_search&utm_source=KJtcufKUS887p24u6rjVIQ',\n",
       " 'review_count': 1184,\n",
       " 'categories': [{'alias': 'seafood', 'title': 'Seafood'},\n",
       "  {'alias': 'beerbar', 'title': 'Beer Bar'}],\n",
       " 'rating': 4.0,\n",
       " 'coordinates': {'latitude': 39.291696, 'longitude': -76.62224},\n",
       " 'transactions': ['delivery'],\n",
       " 'price': '$$',\n",
       " 'location': {'address1': '203 N Paca St',\n",
       "  'address2': '',\n",
       "  'address3': '',\n",
       "  'city': 'Baltimore',\n",
       "  'zip_code': '21201',\n",
       "  'country': 'US',\n",
       "  'state': 'MD',\n",
       "  'display_address': ['203 N Paca St', 'Baltimore, MD 21201']},\n",
       " 'phone': '+14107274898',\n",
       " 'display_phone': '(410) 727-4898',\n",
       " 'distance': 1349.560720156645}"
      ]
     },
     "execution_count": 14,
     "metadata": {},
     "output_type": "execute_result"
    }
   ],
   "source": [
    "# what does the first entry of business look like?\n",
    "json_file['businesses'][0]"
   ]
  },
  {
   "cell_type": "code",
   "execution_count": 15,
   "id": "35aebc1f",
   "metadata": {},
   "outputs": [
    {
     "data": {
      "text/plain": [
       "dict_keys(['id', 'alias', 'name', 'image_url', 'is_closed', 'url', 'review_count', 'categories', 'rating', 'coordinates', 'transactions', 'price', 'location', 'phone', 'display_phone', 'distance'])"
      ]
     },
     "execution_count": 15,
     "metadata": {},
     "output_type": "execute_result"
    }
   ],
   "source": [
    "## what are the keys of the first entry in businesses?\n",
    "json_file['businesses'][0].keys()"
   ]
  },
  {
   "cell_type": "code",
   "execution_count": 17,
   "id": "b967c6c6",
   "metadata": {},
   "outputs": [
    {
     "data": {
      "text/html": [
       "<div>\n",
       "<style scoped>\n",
       "    .dataframe tbody tr th:only-of-type {\n",
       "        vertical-align: middle;\n",
       "    }\n",
       "\n",
       "    .dataframe tbody tr th {\n",
       "        vertical-align: top;\n",
       "    }\n",
       "\n",
       "    .dataframe thead th {\n",
       "        text-align: right;\n",
       "    }\n",
       "</style>\n",
       "<table border=\"1\" class=\"dataframe\">\n",
       "  <thead>\n",
       "    <tr style=\"text-align: right;\">\n",
       "      <th></th>\n",
       "      <th>id</th>\n",
       "      <th>alias</th>\n",
       "      <th>name</th>\n",
       "      <th>image_url</th>\n",
       "      <th>is_closed</th>\n",
       "      <th>url</th>\n",
       "      <th>review_count</th>\n",
       "      <th>categories</th>\n",
       "      <th>rating</th>\n",
       "      <th>coordinates</th>\n",
       "      <th>transactions</th>\n",
       "      <th>price</th>\n",
       "      <th>location</th>\n",
       "      <th>phone</th>\n",
       "      <th>display_phone</th>\n",
       "      <th>distance</th>\n",
       "    </tr>\n",
       "  </thead>\n",
       "  <tbody>\n",
       "    <tr>\n",
       "      <th>0</th>\n",
       "      <td>D9A33FM394q99o4QtK5YwA</td>\n",
       "      <td>faidleys-seafood-baltimore-3</td>\n",
       "      <td>Faidleys Seafood</td>\n",
       "      <td>https://s3-media3.fl.yelpcdn.com/bphoto/OTjVDC...</td>\n",
       "      <td>False</td>\n",
       "      <td>https://www.yelp.com/biz/faidleys-seafood-balt...</td>\n",
       "      <td>1184</td>\n",
       "      <td>[{'alias': 'seafood', 'title': 'Seafood'}, {'a...</td>\n",
       "      <td>4.0</td>\n",
       "      <td>{'latitude': 39.291696, 'longitude': -76.62224}</td>\n",
       "      <td>[delivery]</td>\n",
       "      <td>$$</td>\n",
       "      <td>{'address1': '203 N Paca St', 'address2': '', ...</td>\n",
       "      <td>+14107274898</td>\n",
       "      <td>(410) 727-4898</td>\n",
       "      <td>1349.560720</td>\n",
       "    </tr>\n",
       "    <tr>\n",
       "      <th>1</th>\n",
       "      <td>u65W69AhbjUlvJJBkEhGNQ</td>\n",
       "      <td>miss-shirleys-cafe-baltimore-9</td>\n",
       "      <td>Miss Shirley's Cafe</td>\n",
       "      <td>https://s3-media4.fl.yelpcdn.com/bphoto/9FsOyV...</td>\n",
       "      <td>False</td>\n",
       "      <td>https://www.yelp.com/biz/miss-shirleys-cafe-ba...</td>\n",
       "      <td>2919</td>\n",
       "      <td>[{'alias': 'breakfast_brunch', 'title': 'Break...</td>\n",
       "      <td>4.0</td>\n",
       "      <td>{'latitude': 39.2870995, 'longitude': -76.6053...</td>\n",
       "      <td>[delivery, pickup]</td>\n",
       "      <td>$$</td>\n",
       "      <td>{'address1': '750 E Pratt St', 'address2': '',...</td>\n",
       "      <td>+14105285373</td>\n",
       "      <td>(410) 528-5373</td>\n",
       "      <td>1028.736468</td>\n",
       "    </tr>\n",
       "    <tr>\n",
       "      <th>2</th>\n",
       "      <td>ieS_5zqxDHcWMCm8BKUYbg</td>\n",
       "      <td>thames-street-oyster-house-baltimore</td>\n",
       "      <td>Thames Street Oyster House</td>\n",
       "      <td>https://s3-media1.fl.yelpcdn.com/bphoto/9hGjo5...</td>\n",
       "      <td>False</td>\n",
       "      <td>https://www.yelp.com/biz/thames-street-oyster-...</td>\n",
       "      <td>2729</td>\n",
       "      <td>[{'alias': 'seafood', 'title': 'Seafood'}, {'a...</td>\n",
       "      <td>4.5</td>\n",
       "      <td>{'latitude': 39.28214, 'longitude': -76.59162}</td>\n",
       "      <td>[delivery]</td>\n",
       "      <td>$$$</td>\n",
       "      <td>{'address1': '1728 Thames St', 'address2': '',...</td>\n",
       "      <td>+14434497726</td>\n",
       "      <td>(443) 449-7726</td>\n",
       "      <td>2090.712792</td>\n",
       "    </tr>\n",
       "    <tr>\n",
       "      <th>3</th>\n",
       "      <td>6am8TZAFnvND52MOz-Yctg</td>\n",
       "      <td>mamas-on-the-half-shell-baltimore</td>\n",
       "      <td>Mama's On The Half Shell</td>\n",
       "      <td>https://s3-media2.fl.yelpcdn.com/bphoto/HWY8OF...</td>\n",
       "      <td>False</td>\n",
       "      <td>https://www.yelp.com/biz/mamas-on-the-half-she...</td>\n",
       "      <td>1279</td>\n",
       "      <td>[{'alias': 'bars', 'title': 'Bars'}, {'alias':...</td>\n",
       "      <td>4.0</td>\n",
       "      <td>{'latitude': 39.27986, 'longitude': -76.5752399}</td>\n",
       "      <td>[delivery, pickup]</td>\n",
       "      <td>$$</td>\n",
       "      <td>{'address1': '2901 Odonnell St', 'address2': '...</td>\n",
       "      <td>+14102763160</td>\n",
       "      <td>(410) 276-3160</td>\n",
       "      <td>3328.825798</td>\n",
       "    </tr>\n",
       "    <tr>\n",
       "      <th>4</th>\n",
       "      <td>ISn7WyGQaFpsVSRSh0NSqg</td>\n",
       "      <td>sal-and-sons-baltimore</td>\n",
       "      <td>Sal and Sons</td>\n",
       "      <td>https://s3-media3.fl.yelpcdn.com/bphoto/LmVL4j...</td>\n",
       "      <td>False</td>\n",
       "      <td>https://www.yelp.com/biz/sal-and-sons-baltimor...</td>\n",
       "      <td>153</td>\n",
       "      <td>[{'alias': 'seafood', 'title': 'Seafood'}, {'a...</td>\n",
       "      <td>4.5</td>\n",
       "      <td>{'latitude': 39.284, 'longitude': -76.59337}</td>\n",
       "      <td>[delivery]</td>\n",
       "      <td>$</td>\n",
       "      <td>{'address1': '1640 Aliceanna St', 'address2': ...</td>\n",
       "      <td>+14106751466</td>\n",
       "      <td>(410) 675-1466</td>\n",
       "      <td>1817.406978</td>\n",
       "    </tr>\n",
       "  </tbody>\n",
       "</table>\n",
       "</div>"
      ],
      "text/plain": [
       "                       id                                 alias  \\\n",
       "0  D9A33FM394q99o4QtK5YwA          faidleys-seafood-baltimore-3   \n",
       "1  u65W69AhbjUlvJJBkEhGNQ        miss-shirleys-cafe-baltimore-9   \n",
       "2  ieS_5zqxDHcWMCm8BKUYbg  thames-street-oyster-house-baltimore   \n",
       "3  6am8TZAFnvND52MOz-Yctg     mamas-on-the-half-shell-baltimore   \n",
       "4  ISn7WyGQaFpsVSRSh0NSqg                sal-and-sons-baltimore   \n",
       "\n",
       "                         name  \\\n",
       "0            Faidleys Seafood   \n",
       "1         Miss Shirley's Cafe   \n",
       "2  Thames Street Oyster House   \n",
       "3    Mama's On The Half Shell   \n",
       "4                Sal and Sons   \n",
       "\n",
       "                                           image_url  is_closed  \\\n",
       "0  https://s3-media3.fl.yelpcdn.com/bphoto/OTjVDC...      False   \n",
       "1  https://s3-media4.fl.yelpcdn.com/bphoto/9FsOyV...      False   \n",
       "2  https://s3-media1.fl.yelpcdn.com/bphoto/9hGjo5...      False   \n",
       "3  https://s3-media2.fl.yelpcdn.com/bphoto/HWY8OF...      False   \n",
       "4  https://s3-media3.fl.yelpcdn.com/bphoto/LmVL4j...      False   \n",
       "\n",
       "                                                 url  review_count  \\\n",
       "0  https://www.yelp.com/biz/faidleys-seafood-balt...          1184   \n",
       "1  https://www.yelp.com/biz/miss-shirleys-cafe-ba...          2919   \n",
       "2  https://www.yelp.com/biz/thames-street-oyster-...          2729   \n",
       "3  https://www.yelp.com/biz/mamas-on-the-half-she...          1279   \n",
       "4  https://www.yelp.com/biz/sal-and-sons-baltimor...           153   \n",
       "\n",
       "                                          categories  rating  \\\n",
       "0  [{'alias': 'seafood', 'title': 'Seafood'}, {'a...     4.0   \n",
       "1  [{'alias': 'breakfast_brunch', 'title': 'Break...     4.0   \n",
       "2  [{'alias': 'seafood', 'title': 'Seafood'}, {'a...     4.5   \n",
       "3  [{'alias': 'bars', 'title': 'Bars'}, {'alias':...     4.0   \n",
       "4  [{'alias': 'seafood', 'title': 'Seafood'}, {'a...     4.5   \n",
       "\n",
       "                                         coordinates        transactions  \\\n",
       "0    {'latitude': 39.291696, 'longitude': -76.62224}          [delivery]   \n",
       "1  {'latitude': 39.2870995, 'longitude': -76.6053...  [delivery, pickup]   \n",
       "2     {'latitude': 39.28214, 'longitude': -76.59162}          [delivery]   \n",
       "3   {'latitude': 39.27986, 'longitude': -76.5752399}  [delivery, pickup]   \n",
       "4       {'latitude': 39.284, 'longitude': -76.59337}          [delivery]   \n",
       "\n",
       "  price                                           location         phone  \\\n",
       "0    $$  {'address1': '203 N Paca St', 'address2': '', ...  +14107274898   \n",
       "1    $$  {'address1': '750 E Pratt St', 'address2': '',...  +14105285373   \n",
       "2   $$$  {'address1': '1728 Thames St', 'address2': '',...  +14434497726   \n",
       "3    $$  {'address1': '2901 Odonnell St', 'address2': '...  +14102763160   \n",
       "4     $  {'address1': '1640 Aliceanna St', 'address2': ...  +14106751466   \n",
       "\n",
       "    display_phone     distance  \n",
       "0  (410) 727-4898  1349.560720  \n",
       "1  (410) 528-5373  1028.736468  \n",
       "2  (443) 449-7726  2090.712792  \n",
       "3  (410) 276-3160  3328.825798  \n",
       "4  (410) 675-1466  1817.406978  "
      ]
     },
     "execution_count": 17,
     "metadata": {},
     "output_type": "execute_result"
    }
   ],
   "source": [
    "import pandas as pd\n",
    "biz = pd.DataFrame(json_file['businesses'])\n",
    "biz.head()"
   ]
  },
  {
   "cell_type": "code",
   "execution_count": 21,
   "id": "2fe41fa2",
   "metadata": {},
   "outputs": [],
   "source": [
    "# add offset to our original api call\n",
    "search_results = yelp_api.search_query(location='Baltimore, MD,21202',\n",
    "                                       term='food',\n",
    "                                       offset = 30)\n"
   ]
  },
  {
   "cell_type": "code",
   "execution_count": 22,
   "id": "8d7dd55a",
   "metadata": {},
   "outputs": [
    {
     "data": {
      "text/html": [
       "<div>\n",
       "<style scoped>\n",
       "    .dataframe tbody tr th:only-of-type {\n",
       "        vertical-align: middle;\n",
       "    }\n",
       "\n",
       "    .dataframe tbody tr th {\n",
       "        vertical-align: top;\n",
       "    }\n",
       "\n",
       "    .dataframe thead th {\n",
       "        text-align: right;\n",
       "    }\n",
       "</style>\n",
       "<table border=\"1\" class=\"dataframe\">\n",
       "  <thead>\n",
       "    <tr style=\"text-align: right;\">\n",
       "      <th></th>\n",
       "      <th>id</th>\n",
       "      <th>alias</th>\n",
       "      <th>name</th>\n",
       "      <th>image_url</th>\n",
       "      <th>is_closed</th>\n",
       "      <th>url</th>\n",
       "      <th>review_count</th>\n",
       "      <th>categories</th>\n",
       "      <th>rating</th>\n",
       "      <th>coordinates</th>\n",
       "      <th>transactions</th>\n",
       "      <th>location</th>\n",
       "      <th>phone</th>\n",
       "      <th>display_phone</th>\n",
       "      <th>distance</th>\n",
       "      <th>price</th>\n",
       "    </tr>\n",
       "  </thead>\n",
       "  <tbody>\n",
       "    <tr>\n",
       "      <th>0</th>\n",
       "      <td>Q_SdrcYiJum3OBxTX5HpMQ</td>\n",
       "      <td>monarque-baltimore</td>\n",
       "      <td>Monarque</td>\n",
       "      <td>https://s3-media1.fl.yelpcdn.com/bphoto/6CxCuw...</td>\n",
       "      <td>False</td>\n",
       "      <td>https://www.yelp.com/biz/monarque-baltimore?ad...</td>\n",
       "      <td>85</td>\n",
       "      <td>[{'alias': 'dinnertheater', 'title': 'Dinner T...</td>\n",
       "      <td>4.0</td>\n",
       "      <td>{'latitude': 39.284758, 'longitude': -76.599701}</td>\n",
       "      <td>[delivery]</td>\n",
       "      <td>{'address1': '1010 Fleet St', 'address2': None...</td>\n",
       "      <td>+14433841480</td>\n",
       "      <td>(443) 384-1480</td>\n",
       "      <td>1438.609478</td>\n",
       "      <td>NaN</td>\n",
       "    </tr>\n",
       "    <tr>\n",
       "      <th>1</th>\n",
       "      <td>vb79aRUD88S9AGqn2Oknaw</td>\n",
       "      <td>homeslyce-mt-vernon-baltimore-3</td>\n",
       "      <td>HomeSlyce - Mt. Vernon</td>\n",
       "      <td>https://s3-media2.fl.yelpcdn.com/bphoto/3MqfIl...</td>\n",
       "      <td>False</td>\n",
       "      <td>https://www.yelp.com/biz/homeslyce-mt-vernon-b...</td>\n",
       "      <td>453</td>\n",
       "      <td>[{'alias': 'pizza', 'title': 'Pizza'}, {'alias...</td>\n",
       "      <td>4.0</td>\n",
       "      <td>{'latitude': 39.293693, 'longitude': -76.615782}</td>\n",
       "      <td>[pickup, delivery]</td>\n",
       "      <td>{'address1': '336 N Charles St', 'address2': '...</td>\n",
       "      <td>+14435014000</td>\n",
       "      <td>(443) 501-4000</td>\n",
       "      <td>750.670580</td>\n",
       "      <td>$$</td>\n",
       "    </tr>\n",
       "  </tbody>\n",
       "</table>\n",
       "</div>"
      ],
      "text/plain": [
       "                       id                            alias  \\\n",
       "0  Q_SdrcYiJum3OBxTX5HpMQ               monarque-baltimore   \n",
       "1  vb79aRUD88S9AGqn2Oknaw  homeslyce-mt-vernon-baltimore-3   \n",
       "\n",
       "                     name                                          image_url  \\\n",
       "0                Monarque  https://s3-media1.fl.yelpcdn.com/bphoto/6CxCuw...   \n",
       "1  HomeSlyce - Mt. Vernon  https://s3-media2.fl.yelpcdn.com/bphoto/3MqfIl...   \n",
       "\n",
       "   is_closed                                                url  review_count  \\\n",
       "0      False  https://www.yelp.com/biz/monarque-baltimore?ad...            85   \n",
       "1      False  https://www.yelp.com/biz/homeslyce-mt-vernon-b...           453   \n",
       "\n",
       "                                          categories  rating  \\\n",
       "0  [{'alias': 'dinnertheater', 'title': 'Dinner T...     4.0   \n",
       "1  [{'alias': 'pizza', 'title': 'Pizza'}, {'alias...     4.0   \n",
       "\n",
       "                                        coordinates        transactions  \\\n",
       "0  {'latitude': 39.284758, 'longitude': -76.599701}          [delivery]   \n",
       "1  {'latitude': 39.293693, 'longitude': -76.615782}  [pickup, delivery]   \n",
       "\n",
       "                                            location         phone  \\\n",
       "0  {'address1': '1010 Fleet St', 'address2': None...  +14433841480   \n",
       "1  {'address1': '336 N Charles St', 'address2': '...  +14435014000   \n",
       "\n",
       "    display_phone     distance price  \n",
       "0  (443) 384-1480  1438.609478   NaN  \n",
       "1  (443) 501-4000   750.670580    $$  "
      ]
     },
     "execution_count": 22,
     "metadata": {},
     "output_type": "execute_result"
    }
   ],
   "source": [
    "biz30 = pd.DataFrame(search_results['businesses'])\n",
    "biz30.head(2)"
   ]
  },
  {
   "cell_type": "code",
   "execution_count": 25,
   "id": "b12eca08",
   "metadata": {},
   "outputs": [
    {
     "data": {
      "text/plain": [
       "'[{\"id\":\"Q_SdrcYiJum3OBxTX5HpMQ\",\"alias\":\"monarque-baltimore\",\"name\":\"Monarque\",\"image_url\":\"https:\\\\/\\\\/s3-media1.fl.yelpcdn.com\\\\/bphoto\\\\/6CxCuwkUInv4poBoqIpQ-A\\\\/o.jpg\",\"is_closed\":false,\"url\":\"https:\\\\/\\\\/www.yelp.com\\\\/biz\\\\/monarque-baltimore?adjust_creative=U9oMx6DYASGt0l2FwUCaNg&utm_campaign=yelp_api_v3&utm_medium=api_v3_business_search&utm_source=U9oMx6DYASGt0l2FwUCaNg\",\"review_count\":85,\"categories\":[{\"alias\":\"dinnertheater\",\"title\":\"Dinner Theater\"},{\"alias\":\"french\",\"title\":\"French\"},{\"alias\":\"steak\",\"title\":\"Steakhouses\"}],\"rating\":4.0,\"coordinates\":{\"latitude\":39.284758,\"longitude\":-76.599701},\"transactions\":[\"delivery\"],\"location\":{\"address1\":\"1010 Fleet St\",\"address2\":null,\"address3\":null,\"city\":\"Baltimore\",\"zip_code\":\"21202\",\"country\":\"US\",\"state\":\"MD\",\"display_address\":[\"1010 Fleet St\",\"Baltimore, MD 21202\"]},\"phone\":\"+14433841480\",\"display_phone\":\"(443) 384-1480\",\"distance\":1438.6094784484,\"price\":null},{\"id\":\"vb79aRUD88S9AGqn2Oknaw\",\"alias\":\"homeslyce-mt-vernon-baltimore-3\",\"name\":\"HomeSlyce - Mt. Vernon\",\"image_url\":\"https:\\\\/\\\\/s3-media2.fl.yelpcdn.com\\\\/bphoto\\\\/3MqfIl3kSd_rbMnq8kktQA\\\\/o.jpg\",\"is_closed\":false,\"url\":\"https:\\\\/\\\\/www.yelp.com\\\\/biz\\\\/homeslyce-mt-vernon-baltimore-3?adjust_creative=U9oMx6DYASGt0l2FwUCaNg&utm_campaign=yelp_api_v3&utm_medium=api_v3_business_search&utm_source=U9oMx6DYASGt0l2FwUCaNg\",\"review_count\":453,\"categories\":[{\"alias\":\"pizza\",\"title\":\"Pizza\"},{\"alias\":\"tradamerican\",\"title\":\"American (Traditional)\"},{\"alias\":\"sportsbars\",\"title\":\"Sports Bars\"}],\"rating\":4.0,\"coordinates\":{\"latitude\":39.293693,\"longitude\":-76.615782},\"transactions\":[\"pickup\",\"delivery\"],\"location\":{\"address1\":\"336 N Charles St\",\"address2\":\"\",\"address3\":\"\",\"city\":\"Baltimore\",\"zip_code\":\"21201\",\"country\":\"US\",\"state\":\"MD\",\"display_address\":[\"336 N Charles St\",\"Baltimore, MD 21201\"]},\"phone\":\"+14435014000\",\"display_phone\":\"(443) 501-4000\",\"distance\":750.6705795493,\"price\":\"$$\"},{\"id\":\"5rYJkTY_V5y5IGepcDmW_w\",\"alias\":\"bambao-baltimore\",\"name\":\"Bambao\",\"image_url\":\"https:\\\\/\\\\/s3-media3.fl.yelpcdn.com\\\\/bphoto\\\\/xa_nCRogWTWz7_dh6OEx1g\\\\/o.jpg\",\"is_closed\":false,\"url\":\"https:\\\\/\\\\/www.yelp.com\\\\/biz\\\\/bambao-baltimore?adjust_creative=U9oMx6DYASGt0l2FwUCaNg&utm_campaign=yelp_api_v3&utm_medium=api_v3_business_search&utm_source=U9oMx6DYASGt0l2FwUCaNg\",\"review_count\":104,\"categories\":[{\"alias\":\"asianfusion\",\"title\":\"Asian Fusion\"},{\"alias\":\"bubbletea\",\"title\":\"Bubble Tea\"},{\"alias\":\"chinese\",\"title\":\"Chinese\"}],\"rating\":4.0,\"coordinates\":{\"latitude\":39.28348,\"longitude\":-76.599289},\"transactions\":[\"pickup\",\"delivery\"],\"location\":{\"address1\":\"1010 Aliceanna St\",\"address2\":\"\",\"address3\":null,\"city\":\"Baltimore\",\"zip_code\":\"21202\",\"country\":\"US\",\"state\":\"MD\",\"display_address\":[\"1010 Aliceanna St\",\"Baltimore, MD 21202\"]},\"phone\":\"+14434383528\",\"display_phone\":\"(443) 438-3528\",\"distance\":1585.3754944832,\"price\":\"$$\"},{\"id\":\"vwAZkj3c6Xylxk8ZycAF8A\",\"alias\":\"connies-chicken-and-waffles-baltimore-3\",\"name\":\"Connie\\'s Chicken and Waffles\",\"image_url\":\"https:\\\\/\\\\/s3-media4.fl.yelpcdn.com\\\\/bphoto\\\\/ILok86EYT_mNTKDIm3p6jw\\\\/o.jpg\",\"is_closed\":false,\"url\":\"https:\\\\/\\\\/www.yelp.com\\\\/biz\\\\/connies-chicken-and-waffles-baltimore-3?adjust_creative=U9oMx6DYASGt0l2FwUCaNg&utm_campaign=yelp_api_v3&utm_medium=api_v3_business_search&utm_source=U9oMx6DYASGt0l2FwUCaNg\",\"review_count\":49,\"categories\":[{\"alias\":\"waffles\",\"title\":\"Waffles\"},{\"alias\":\"breakfast_brunch\",\"title\":\"Breakfast & Brunch\"},{\"alias\":\"southern\",\"title\":\"Southern\"}],\"rating\":4.0,\"coordinates\":{\"latitude\":39.2923746102,\"longitude\":-76.616049227},\"transactions\":[\"pickup\",\"delivery\"],\"location\":{\"address1\":\"222 N Charles St\",\"address2\":null,\"address3\":\"\",\"city\":\"Baltimore\",\"zip_code\":\"21201\",\"country\":\"US\",\"state\":\"MD\",\"display_address\":[\"222 N Charles St\",\"Baltimore, MD 21201\"]},\"phone\":\"+16672604947\",\"display_phone\":\"(667) 260-4947\",\"distance\":836.2500460879,\"price\":\"$\"},{\"id\":\"lAAQgR-KPhO1UWWwKSYsig\",\"alias\":\"blk-swan-baltimore\",\"name\":\"BLK SWAN\",\"image_url\":\"https:\\\\/\\\\/s3-media4.fl.yelpcdn.com\\\\/bphoto\\\\/6jUixMpqEqt1KWJwTU5Luw\\\\/o.jpg\",\"is_closed\":false,\"url\":\"https:\\\\/\\\\/www.yelp.com\\\\/biz\\\\/blk-swan-baltimore?adjust_creative=U9oMx6DYASGt0l2FwUCaNg&utm_campaign=yelp_api_v3&utm_medium=api_v3_business_search&utm_source=U9oMx6DYASGt0l2FwUCaNg\",\"review_count\":209,\"categories\":[{\"alias\":\"newamerican\",\"title\":\"American (New)\"},{\"alias\":\"cocktailbars\",\"title\":\"Cocktail Bars\"}],\"rating\":3.5,\"coordinates\":{\"latitude\":39.284521,\"longitude\":-76.598812},\"transactions\":[],\"location\":{\"address1\":\"1302 Fleet St\",\"address2\":\"\",\"address3\":null,\"city\":\"Baltimore\",\"zip_code\":\"21202\",\"country\":\"US\",\"state\":\"MD\",\"display_address\":[\"1302 Fleet St\",\"Baltimore, MD 21202\"]},\"phone\":\"+14435521956\",\"display_phone\":\"(443) 552-1956\",\"distance\":1513.7044319921,\"price\":null},{\"id\":\"t0EA_fXewpQWfzWMrpNjIw\",\"alias\":\"peters-pour-house-baltimore\",\"name\":\"Peter\\'s Pour House\",\"image_url\":\"https:\\\\/\\\\/s3-media3.fl.yelpcdn.com\\\\/bphoto\\\\/A5kRmG6uiu3L1vStpcRK-g\\\\/o.jpg\",\"is_closed\":false,\"url\":\"https:\\\\/\\\\/www.yelp.com\\\\/biz\\\\/peters-pour-house-baltimore?adjust_creative=U9oMx6DYASGt0l2FwUCaNg&utm_campaign=yelp_api_v3&utm_medium=api_v3_business_search&utm_source=U9oMx6DYASGt0l2FwUCaNg\",\"review_count\":229,\"categories\":[{\"alias\":\"tradamerican\",\"title\":\"American (Traditional)\"},{\"alias\":\"pubs\",\"title\":\"Pubs\"}],\"rating\":4.0,\"coordinates\":{\"latitude\":39.288481314,\"longitude\":-76.6130307125},\"transactions\":[\"pickup\",\"delivery\"],\"location\":{\"address1\":\"111 Mercer St\",\"address2\":null,\"address3\":\"\",\"city\":\"Baltimore\",\"zip_code\":\"21202\",\"country\":\"US\",\"state\":\"MD\",\"display_address\":[\"111 Mercer St\",\"Baltimore, MD 21202\"]},\"phone\":\"+14105395818\",\"display_phone\":\"(410) 539-5818\",\"distance\":972.436126258,\"price\":\"$$\"},{\"id\":\"I0GbQkQHF2sinkmG5vA3hg\",\"alias\":\"bricknfire-at-baltimore-marriott-inner-harbor-at-camden-yards-baltimore\",\"name\":\"BricknFire at Baltimore Marriott Inner Harbor at Camden Yards\",\"image_url\":\"https:\\\\/\\\\/s3-media1.fl.yelpcdn.com\\\\/bphoto\\\\/wLbKlFDjFM5AAJZGJ49ekA\\\\/o.jpg\",\"is_closed\":false,\"url\":\"https:\\\\/\\\\/www.yelp.com\\\\/biz\\\\/bricknfire-at-baltimore-marriott-inner-harbor-at-camden-yards-baltimore?adjust_creative=U9oMx6DYASGt0l2FwUCaNg&utm_campaign=yelp_api_v3&utm_medium=api_v3_business_search&utm_source=U9oMx6DYASGt0l2FwUCaNg\",\"review_count\":214,\"categories\":[{\"alias\":\"pizza\",\"title\":\"Pizza\"},{\"alias\":\"italian\",\"title\":\"Italian\"},{\"alias\":\"sandwiches\",\"title\":\"Sandwiches\"}],\"rating\":4.5,\"coordinates\":{\"latitude\":39.28685,\"longitude\":-76.62138},\"transactions\":[\"pickup\",\"delivery\"],\"location\":{\"address1\":\"110 S Eutaw St\",\"address2\":null,\"address3\":\"\",\"city\":\"Baltimore\",\"zip_code\":\"21201\",\"country\":\"US\",\"state\":\"MD\",\"display_address\":[\"110 S Eutaw St\",\"Baltimore, MD 21201\"]},\"phone\":\"+14437647847\",\"display_phone\":\"(443) 764-7847\",\"distance\":1563.380341163,\"price\":\"$$\"},{\"id\":\"417YPonNwsTF-LKjGybNGA\",\"alias\":\"angelis-pizzeria-baltimore-2\",\"name\":\"Angeli\\'s Pizzeria\",\"image_url\":\"https:\\\\/\\\\/s3-media4.fl.yelpcdn.com\\\\/bphoto\\\\/285RaNTzD_rTbk2aYWC49w\\\\/o.jpg\",\"is_closed\":false,\"url\":\"https:\\\\/\\\\/www.yelp.com\\\\/biz\\\\/angelis-pizzeria-baltimore-2?adjust_creative=U9oMx6DYASGt0l2FwUCaNg&utm_campaign=yelp_api_v3&utm_medium=api_v3_business_search&utm_source=U9oMx6DYASGt0l2FwUCaNg\",\"review_count\":308,\"categories\":[{\"alias\":\"pizza\",\"title\":\"Pizza\"},{\"alias\":\"italian\",\"title\":\"Italian\"},{\"alias\":\"sandwiches\",\"title\":\"Sandwiches\"}],\"rating\":4.5,\"coordinates\":{\"latitude\":39.2853676682,\"longitude\":-76.6010601393},\"transactions\":[\"pickup\",\"delivery\"],\"location\":{\"address1\":\"413 S High St\",\"address2\":\"\",\"address3\":null,\"city\":\"Baltimore\",\"zip_code\":\"21202\",\"country\":\"US\",\"state\":\"MD\",\"display_address\":[\"413 S High St\",\"Baltimore, MD 21202\"]},\"phone\":\"+14437087556\",\"display_phone\":\"(443) 708-7556\",\"distance\":1329.7294740118,\"price\":\"$$\"},{\"id\":\"Xayjp8lOBLcnOKk6AUZrxA\",\"alias\":\"doobys-baltimore\",\"name\":\"Dooby\\'s\",\"image_url\":\"https:\\\\/\\\\/s3-media2.fl.yelpcdn.com\\\\/bphoto\\\\/Y1zDshOQd57xj455mnGfkA\\\\/o.jpg\",\"is_closed\":false,\"url\":\"https:\\\\/\\\\/www.yelp.com\\\\/biz\\\\/doobys-baltimore?adjust_creative=U9oMx6DYASGt0l2FwUCaNg&utm_campaign=yelp_api_v3&utm_medium=api_v3_business_search&utm_source=U9oMx6DYASGt0l2FwUCaNg\",\"review_count\":636,\"categories\":[{\"alias\":\"coffee\",\"title\":\"Coffee & Tea\"},{\"alias\":\"asianfusion\",\"title\":\"Asian Fusion\"},{\"alias\":\"breakfast_brunch\",\"title\":\"Breakfast & Brunch\"}],\"rating\":4.0,\"coordinates\":{\"latitude\":39.2988230069,\"longitude\":-76.6158836452},\"transactions\":[\"pickup\",\"delivery\"],\"location\":{\"address1\":\"802 N Charles St\",\"address2\":null,\"address3\":\"\",\"city\":\"Baltimore\",\"zip_code\":\"21201\",\"country\":\"US\",\"state\":\"MD\",\"display_address\":[\"802 N Charles St\",\"Baltimore, MD 21201\"]},\"phone\":\"+14106093162\",\"display_phone\":\"(410) 609-3162\",\"distance\":765.8421882365,\"price\":\"$$\"},{\"id\":\"8-cBsSXmLaGK6qCD0tmcZg\",\"alias\":\"the-food-market-baltimore\",\"name\":\"The Food Market\",\"image_url\":\"https:\\\\/\\\\/s3-media3.fl.yelpcdn.com\\\\/bphoto\\\\/OJ3MPAsbkZIGXPDBXgVSZg\\\\/o.jpg\",\"is_closed\":false,\"url\":\"https:\\\\/\\\\/www.yelp.com\\\\/biz\\\\/the-food-market-baltimore?adjust_creative=U9oMx6DYASGt0l2FwUCaNg&utm_campaign=yelp_api_v3&utm_medium=api_v3_business_search&utm_source=U9oMx6DYASGt0l2FwUCaNg\",\"review_count\":1159,\"categories\":[{\"alias\":\"newamerican\",\"title\":\"American (New)\"}],\"rating\":4.5,\"coordinates\":{\"latitude\":39.3310122069,\"longitude\":-76.6331992056},\"transactions\":[\"delivery\"],\"location\":{\"address1\":\"1017 W 36th St\",\"address2\":\"\",\"address3\":\"\",\"city\":\"Baltimore\",\"zip_code\":\"21211\",\"country\":\"US\",\"state\":\"MD\",\"display_address\":[\"1017 W 36th St\",\"Baltimore, MD 21211\"]},\"phone\":\"+14103660606\",\"display_phone\":\"(410) 366-0606\",\"distance\":4452.869752168,\"price\":\"$$\"},{\"id\":\"n3rjhuloJIwqul_g6F09Lg\",\"alias\":\"slurpin-ramen-baltimore\",\"name\":\"Slurpin Ramen\",\"image_url\":\"https:\\\\/\\\\/s3-media1.fl.yelpcdn.com\\\\/bphoto\\\\/F_ezAYa03JyIY_ZSUMAGnw\\\\/o.jpg\",\"is_closed\":false,\"url\":\"https:\\\\/\\\\/www.yelp.com\\\\/biz\\\\/slurpin-ramen-baltimore?adjust_creative=U9oMx6DYASGt0l2FwUCaNg&utm_campaign=yelp_api_v3&utm_medium=api_v3_business_search&utm_source=U9oMx6DYASGt0l2FwUCaNg\",\"review_count\":3,\"categories\":[{\"alias\":\"ramen\",\"title\":\"Ramen\"}],\"rating\":5.0,\"coordinates\":{\"latitude\":39.29584,\"longitude\":-76.61904},\"transactions\":[],\"location\":{\"address1\":\"520 Park Ave\",\"address2\":\"\",\"address3\":null,\"city\":\"Baltimore\",\"zip_code\":\"21201\",\"country\":\"US\",\"state\":\"MD\",\"display_address\":[\"520 Park Ave\",\"Baltimore, MD 21201\"]},\"phone\":\"\",\"display_phone\":\"\",\"distance\":962.7995779416,\"price\":null},{\"id\":\"-wCGzvvqQgeKh8Hf9zVO8Q\",\"alias\":\"cajou-creamery-baltimore\",\"name\":\"Cajou Creamery\",\"image_url\":\"https:\\\\/\\\\/s3-media1.fl.yelpcdn.com\\\\/bphoto\\\\/fdb_bcjdR4nN3hbuxvNDmQ\\\\/o.jpg\",\"is_closed\":false,\"url\":\"https:\\\\/\\\\/www.yelp.com\\\\/biz\\\\/cajou-creamery-baltimore?adjust_creative=U9oMx6DYASGt0l2FwUCaNg&utm_campaign=yelp_api_v3&utm_medium=api_v3_business_search&utm_source=U9oMx6DYASGt0l2FwUCaNg\",\"review_count\":12,\"categories\":[{\"alias\":\"desserts\",\"title\":\"Desserts\"}],\"rating\":5.0,\"coordinates\":{\"latitude\":39.2942864126,\"longitude\":-76.61961045},\"transactions\":[\"delivery\"],\"location\":{\"address1\":\"411 N Howard St\",\"address2\":\"\",\"address3\":null,\"city\":\"Baltimore\",\"zip_code\":\"21201\",\"country\":\"US\",\"state\":\"MD\",\"display_address\":[\"411 N Howard St\",\"Baltimore, MD 21201\"]},\"phone\":\"+14109292644\",\"display_phone\":\"(410) 929-2644\",\"distance\":1049.1587452028,\"price\":\"$$\"},{\"id\":\"lla8Pn9-JzXb-2gg3_d6aQ\",\"alias\":\"taco-town-baltimore\",\"name\":\"Taco Town\",\"image_url\":\"https:\\\\/\\\\/s3-media2.fl.yelpcdn.com\\\\/bphoto\\\\/x1XLz3pU2Dh-Pt_Mk_zpkQ\\\\/o.jpg\",\"is_closed\":false,\"url\":\"https:\\\\/\\\\/www.yelp.com\\\\/biz\\\\/taco-town-baltimore?adjust_creative=U9oMx6DYASGt0l2FwUCaNg&utm_campaign=yelp_api_v3&utm_medium=api_v3_business_search&utm_source=U9oMx6DYASGt0l2FwUCaNg\",\"review_count\":83,\"categories\":[{\"alias\":\"mexican\",\"title\":\"Mexican\"}],\"rating\":4.5,\"coordinates\":{\"latitude\":39.2892446828,\"longitude\":-76.6216612093},\"transactions\":[\"pickup\",\"delivery\"],\"location\":{\"address1\":\"413 W Baltimore St\",\"address2\":null,\"address3\":\"\",\"city\":\"Baltimore\",\"zip_code\":\"21201\",\"country\":\"US\",\"state\":\"MD\",\"display_address\":[\"413 W Baltimore St\",\"Baltimore, MD 21201\"]},\"phone\":\"+14437081717\",\"display_phone\":\"(443) 708-1717\",\"distance\":1430.0044158725,\"price\":\"$\"},{\"id\":\"HY5WZh7IgXxZKDqzeBHD-A\",\"alias\":\"khun-nine-thai-baltimore-2\",\"name\":\"Khun Nine Thai\",\"image_url\":\"https:\\\\/\\\\/s3-media2.fl.yelpcdn.com\\\\/bphoto\\\\/bk8trMoAvO73imlubYz46w\\\\/o.jpg\",\"is_closed\":false,\"url\":\"https:\\\\/\\\\/www.yelp.com\\\\/biz\\\\/khun-nine-thai-baltimore-2?adjust_creative=U9oMx6DYASGt0l2FwUCaNg&utm_campaign=yelp_api_v3&utm_medium=api_v3_business_search&utm_source=U9oMx6DYASGt0l2FwUCaNg\",\"review_count\":191,\"categories\":[{\"alias\":\"thai\",\"title\":\"Thai\"},{\"alias\":\"salad\",\"title\":\"Salad\"},{\"alias\":\"soup\",\"title\":\"Soup\"}],\"rating\":4.0,\"coordinates\":{\"latitude\":39.2986918241,\"longitude\":-76.615767628},\"transactions\":[\"pickup\",\"delivery\"],\"location\":{\"address1\":\"804 N Charles St\",\"address2\":\"\",\"address3\":null,\"city\":\"Baltimore\",\"zip_code\":\"21201\",\"country\":\"US\",\"state\":\"MD\",\"display_address\":[\"804 N Charles St\",\"Baltimore, MD 21201\"]},\"phone\":\"+14438352319\",\"display_phone\":\"(443) 835-2319\",\"distance\":773.9449742783,\"price\":\"$$\"},{\"id\":\"AjMBJPjnaGIVhBd08gpjvA\",\"alias\":\"the-water-street-tavern-and-key-west-patio-bar-baltimore\",\"name\":\"The Water Street Tavern & Key West Patio Bar\",\"image_url\":\"https:\\\\/\\\\/s3-media3.fl.yelpcdn.com\\\\/bphoto\\\\/dPOyNQ3m45FGAfv9qhFprw\\\\/o.jpg\",\"is_closed\":false,\"url\":\"https:\\\\/\\\\/www.yelp.com\\\\/biz\\\\/the-water-street-tavern-and-key-west-patio-bar-baltimore?adjust_creative=U9oMx6DYASGt0l2FwUCaNg&utm_campaign=yelp_api_v3&utm_medium=api_v3_business_search&utm_source=U9oMx6DYASGt0l2FwUCaNg\",\"review_count\":265,\"categories\":[{\"alias\":\"tradamerican\",\"title\":\"American (Traditional)\"},{\"alias\":\"bars\",\"title\":\"Bars\"},{\"alias\":\"seafood\",\"title\":\"Seafood\"}],\"rating\":4.0,\"coordinates\":{\"latitude\":39.288553,\"longitude\":-76.613303},\"transactions\":[\"delivery\"],\"location\":{\"address1\":\"102 Water St\",\"address2\":\"\",\"address3\":\"\",\"city\":\"Baltimore\",\"zip_code\":\"21202\",\"country\":\"US\",\"state\":\"MD\",\"display_address\":[\"102 Water St\",\"Baltimore, MD 21202\"]},\"phone\":\"+14106059495\",\"display_phone\":\"(410) 605-9495\",\"distance\":976.849894269,\"price\":\"$$\"},{\"id\":\"H2CkERKKqTF3mBZHg9kHFQ\",\"alias\":\"ejji-baltimore-2\",\"name\":\"EJJI\",\"image_url\":\"https:\\\\/\\\\/s3-media4.fl.yelpcdn.com\\\\/bphoto\\\\/zsSVClcyBdfBflpn7d7iUw\\\\/o.jpg\",\"is_closed\":false,\"url\":\"https:\\\\/\\\\/www.yelp.com\\\\/biz\\\\/ejji-baltimore-2?adjust_creative=U9oMx6DYASGt0l2FwUCaNg&utm_campaign=yelp_api_v3&utm_medium=api_v3_business_search&utm_source=U9oMx6DYASGt0l2FwUCaNg\",\"review_count\":34,\"categories\":[{\"alias\":\"ramen\",\"title\":\"Ramen\"}],\"rating\":5.0,\"coordinates\":{\"latitude\":39.282525,\"longitude\":-76.5987055},\"transactions\":[\"pickup\",\"delivery\"],\"location\":{\"address1\":\"711 S Central Ave\",\"address2\":\"Fl 2\",\"address3\":\"\",\"city\":\"Baltimore\",\"zip_code\":\"21202\",\"country\":\"US\",\"state\":\"MD\",\"display_address\":[\"711 S Central Ave\",\"Fl 2\",\"Baltimore, MD 21202\"]},\"phone\":\"+14434383610\",\"display_phone\":\"(443) 438-3610\",\"distance\":1702.7930469601,\"price\":null},{\"id\":\"Erzc9mS35xdDtoYNv3Gkmw\",\"alias\":\"azumi-baltimore\",\"name\":\"Azumi\",\"image_url\":\"https:\\\\/\\\\/s3-media4.fl.yelpcdn.com\\\\/bphoto\\\\/9aeRFrKsYo_BKMJTdzpZSQ\\\\/o.jpg\",\"is_closed\":false,\"url\":\"https:\\\\/\\\\/www.yelp.com\\\\/biz\\\\/azumi-baltimore?adjust_creative=U9oMx6DYASGt0l2FwUCaNg&utm_campaign=yelp_api_v3&utm_medium=api_v3_business_search&utm_source=U9oMx6DYASGt0l2FwUCaNg\",\"review_count\":509,\"categories\":[{\"alias\":\"sushi\",\"title\":\"Sushi Bars\"},{\"alias\":\"teppanyaki\",\"title\":\"Teppanyaki\"}],\"rating\":4.0,\"coordinates\":{\"latitude\":39.2827871974,\"longitude\":-76.6028602654},\"transactions\":[\"delivery\"],\"location\":{\"address1\":\"725 Aliceanna St\",\"address2\":null,\"address3\":\"\",\"city\":\"Baltimore\",\"zip_code\":\"21202\",\"country\":\"US\",\"state\":\"MD\",\"display_address\":[\"725 Aliceanna St\",\"Baltimore, MD 21202\"]},\"phone\":\"+14432200477\",\"display_phone\":\"(443) 220-0477\",\"distance\":1545.386331208,\"price\":\"$$$\"},{\"id\":\"O7EO2AHxQXRHL1fqodpg7Q\",\"alias\":\"daily-special-authentic-mexican-grill-baltimore-3\",\"name\":\"Daily Special authentic mexican grill\",\"image_url\":\"https:\\\\/\\\\/s3-media2.fl.yelpcdn.com\\\\/bphoto\\\\/76IbRS-FW9XCx03SCCcBnQ\\\\/o.jpg\",\"is_closed\":false,\"url\":\"https:\\\\/\\\\/www.yelp.com\\\\/biz\\\\/daily-special-authentic-mexican-grill-baltimore-3?adjust_creative=U9oMx6DYASGt0l2FwUCaNg&utm_campaign=yelp_api_v3&utm_medium=api_v3_business_search&utm_source=U9oMx6DYASGt0l2FwUCaNg\",\"review_count\":24,\"categories\":[{\"alias\":\"burgers\",\"title\":\"Burgers\"},{\"alias\":\"juicebars\",\"title\":\"Juice Bars & Smoothies\"},{\"alias\":\"mexican\",\"title\":\"Mexican\"}],\"rating\":4.5,\"coordinates\":{\"latitude\":39.29133,\"longitude\":-76.61497},\"transactions\":[\"restaurant_reservation\",\"pickup\",\"delivery\"],\"location\":{\"address1\":\"201 N Charles St\",\"address2\":null,\"address3\":\"\",\"city\":\"Baltimore\",\"zip_code\":\"21201\",\"country\":\"US\",\"state\":\"MD\",\"display_address\":[\"201 N Charles St\",\"Baltimore, MD 21201\"]},\"phone\":\"+14106895603\",\"display_phone\":\"(410) 689-5603\",\"distance\":818.3375947996,\"price\":null},{\"id\":\"ynbOCrd_UK6IyDgEamb4gw\",\"alias\":\"shoyou-sushi-baltimore\",\"name\":\"Shoyou Sushi\",\"image_url\":\"https:\\\\/\\\\/s3-media4.fl.yelpcdn.com\\\\/bphoto\\\\/jFUvyWL46ApdIAzgfhfCgA\\\\/o.jpg\",\"is_closed\":false,\"url\":\"https:\\\\/\\\\/www.yelp.com\\\\/biz\\\\/shoyou-sushi-baltimore?adjust_creative=U9oMx6DYASGt0l2FwUCaNg&utm_campaign=yelp_api_v3&utm_medium=api_v3_business_search&utm_source=U9oMx6DYASGt0l2FwUCaNg\",\"review_count\":597,\"categories\":[{\"alias\":\"sushi\",\"title\":\"Sushi Bars\"},{\"alias\":\"japanese\",\"title\":\"Japanese\"}],\"rating\":4.5,\"coordinates\":{\"latitude\":39.2728666047,\"longitude\":-76.6119887126},\"transactions\":[\"delivery\"],\"location\":{\"address1\":\"1450 Light St\",\"address2\":\"\",\"address3\":\"\",\"city\":\"Baltimore\",\"zip_code\":\"21230\",\"country\":\"US\",\"state\":\"MD\",\"display_address\":[\"1450 Light St\",\"Baltimore, MD 21230\"]},\"phone\":\"+14106852989\",\"display_phone\":\"(410) 685-2989\",\"distance\":2618.696592403,\"price\":\"$$\"},{\"id\":\"PCU5mBJn44Nfj571TgkhmA\",\"alias\":\"water-for-chocolate-baltimore\",\"name\":\"Water for Chocolate\",\"image_url\":\"https:\\\\/\\\\/s3-media1.fl.yelpcdn.com\\\\/bphoto\\\\/O24M4jgf21h9g3oplPD0qw\\\\/o.jpg\",\"is_closed\":false,\"url\":\"https:\\\\/\\\\/www.yelp.com\\\\/biz\\\\/water-for-chocolate-baltimore?adjust_creative=U9oMx6DYASGt0l2FwUCaNg&utm_campaign=yelp_api_v3&utm_medium=api_v3_business_search&utm_source=U9oMx6DYASGt0l2FwUCaNg\",\"review_count\":898,\"categories\":[{\"alias\":\"breakfast_brunch\",\"title\":\"Breakfast & Brunch\"},{\"alias\":\"southern\",\"title\":\"Southern\"},{\"alias\":\"cafes\",\"title\":\"Cafes\"}],\"rating\":4.5,\"coordinates\":{\"latitude\":39.29032,\"longitude\":-76.5905},\"transactions\":[\"pickup\"],\"location\":{\"address1\":\"1841 E Lombard St\",\"address2\":null,\"address3\":null,\"city\":\"Baltimore\",\"zip_code\":\"21231\",\"country\":\"US\",\"state\":\"MD\",\"display_address\":[\"1841 E Lombard St\",\"Baltimore, MD 21231\"]},\"phone\":\"+14106757778\",\"display_phone\":\"(410) 675-7778\",\"distance\":1611.5814059755,\"price\":\"$$\"}]'"
      ]
     },
     "execution_count": 25,
     "metadata": {},
     "output_type": "execute_result"
    }
   ],
   "source": [
    "biz30.to_json(orient='records')"
   ]
  },
  {
   "cell_type": "code",
   "execution_count": 23,
   "id": "81cd2cb4",
   "metadata": {},
   "outputs": [
    {
     "data": {
      "text/html": [
       "<div>\n",
       "<style scoped>\n",
       "    .dataframe tbody tr th:only-of-type {\n",
       "        vertical-align: middle;\n",
       "    }\n",
       "\n",
       "    .dataframe tbody tr th {\n",
       "        vertical-align: top;\n",
       "    }\n",
       "\n",
       "    .dataframe thead th {\n",
       "        text-align: right;\n",
       "    }\n",
       "</style>\n",
       "<table border=\"1\" class=\"dataframe\">\n",
       "  <thead>\n",
       "    <tr style=\"text-align: right;\">\n",
       "      <th></th>\n",
       "      <th>id</th>\n",
       "      <th>alias</th>\n",
       "      <th>name</th>\n",
       "      <th>image_url</th>\n",
       "      <th>is_closed</th>\n",
       "      <th>url</th>\n",
       "      <th>review_count</th>\n",
       "      <th>categories</th>\n",
       "      <th>rating</th>\n",
       "      <th>coordinates</th>\n",
       "      <th>transactions</th>\n",
       "      <th>price</th>\n",
       "      <th>location</th>\n",
       "      <th>phone</th>\n",
       "      <th>display_phone</th>\n",
       "      <th>distance</th>\n",
       "    </tr>\n",
       "  </thead>\n",
       "  <tbody>\n",
       "    <tr>\n",
       "      <th>0</th>\n",
       "      <td>D9A33FM394q99o4QtK5YwA</td>\n",
       "      <td>faidleys-seafood-baltimore-3</td>\n",
       "      <td>Faidleys Seafood</td>\n",
       "      <td>https://s3-media3.fl.yelpcdn.com/bphoto/OTjVDC...</td>\n",
       "      <td>False</td>\n",
       "      <td>https://www.yelp.com/biz/faidleys-seafood-balt...</td>\n",
       "      <td>1184</td>\n",
       "      <td>[{'alias': 'seafood', 'title': 'Seafood'}, {'a...</td>\n",
       "      <td>4.0</td>\n",
       "      <td>{'latitude': 39.291696, 'longitude': -76.62224}</td>\n",
       "      <td>[delivery]</td>\n",
       "      <td>$$</td>\n",
       "      <td>{'address1': '203 N Paca St', 'address2': '', ...</td>\n",
       "      <td>+14107274898</td>\n",
       "      <td>(410) 727-4898</td>\n",
       "      <td>1349.560720</td>\n",
       "    </tr>\n",
       "    <tr>\n",
       "      <th>1</th>\n",
       "      <td>u65W69AhbjUlvJJBkEhGNQ</td>\n",
       "      <td>miss-shirleys-cafe-baltimore-9</td>\n",
       "      <td>Miss Shirley's Cafe</td>\n",
       "      <td>https://s3-media4.fl.yelpcdn.com/bphoto/9FsOyV...</td>\n",
       "      <td>False</td>\n",
       "      <td>https://www.yelp.com/biz/miss-shirleys-cafe-ba...</td>\n",
       "      <td>2919</td>\n",
       "      <td>[{'alias': 'breakfast_brunch', 'title': 'Break...</td>\n",
       "      <td>4.0</td>\n",
       "      <td>{'latitude': 39.2870995, 'longitude': -76.6053...</td>\n",
       "      <td>[delivery, pickup]</td>\n",
       "      <td>$$</td>\n",
       "      <td>{'address1': '750 E Pratt St', 'address2': '',...</td>\n",
       "      <td>+14105285373</td>\n",
       "      <td>(410) 528-5373</td>\n",
       "      <td>1028.736468</td>\n",
       "    </tr>\n",
       "    <tr>\n",
       "      <th>2</th>\n",
       "      <td>ieS_5zqxDHcWMCm8BKUYbg</td>\n",
       "      <td>thames-street-oyster-house-baltimore</td>\n",
       "      <td>Thames Street Oyster House</td>\n",
       "      <td>https://s3-media1.fl.yelpcdn.com/bphoto/9hGjo5...</td>\n",
       "      <td>False</td>\n",
       "      <td>https://www.yelp.com/biz/thames-street-oyster-...</td>\n",
       "      <td>2729</td>\n",
       "      <td>[{'alias': 'seafood', 'title': 'Seafood'}, {'a...</td>\n",
       "      <td>4.5</td>\n",
       "      <td>{'latitude': 39.28214, 'longitude': -76.59162}</td>\n",
       "      <td>[delivery]</td>\n",
       "      <td>$$$</td>\n",
       "      <td>{'address1': '1728 Thames St', 'address2': '',...</td>\n",
       "      <td>+14434497726</td>\n",
       "      <td>(443) 449-7726</td>\n",
       "      <td>2090.712792</td>\n",
       "    </tr>\n",
       "  </tbody>\n",
       "</table>\n",
       "</div>"
      ],
      "text/plain": [
       "                       id                                 alias  \\\n",
       "0  D9A33FM394q99o4QtK5YwA          faidleys-seafood-baltimore-3   \n",
       "1  u65W69AhbjUlvJJBkEhGNQ        miss-shirleys-cafe-baltimore-9   \n",
       "2  ieS_5zqxDHcWMCm8BKUYbg  thames-street-oyster-house-baltimore   \n",
       "\n",
       "                         name  \\\n",
       "0            Faidleys Seafood   \n",
       "1         Miss Shirley's Cafe   \n",
       "2  Thames Street Oyster House   \n",
       "\n",
       "                                           image_url  is_closed  \\\n",
       "0  https://s3-media3.fl.yelpcdn.com/bphoto/OTjVDC...      False   \n",
       "1  https://s3-media4.fl.yelpcdn.com/bphoto/9FsOyV...      False   \n",
       "2  https://s3-media1.fl.yelpcdn.com/bphoto/9hGjo5...      False   \n",
       "\n",
       "                                                 url  review_count  \\\n",
       "0  https://www.yelp.com/biz/faidleys-seafood-balt...          1184   \n",
       "1  https://www.yelp.com/biz/miss-shirleys-cafe-ba...          2919   \n",
       "2  https://www.yelp.com/biz/thames-street-oyster-...          2729   \n",
       "\n",
       "                                          categories  rating  \\\n",
       "0  [{'alias': 'seafood', 'title': 'Seafood'}, {'a...     4.0   \n",
       "1  [{'alias': 'breakfast_brunch', 'title': 'Break...     4.0   \n",
       "2  [{'alias': 'seafood', 'title': 'Seafood'}, {'a...     4.5   \n",
       "\n",
       "                                         coordinates        transactions  \\\n",
       "0    {'latitude': 39.291696, 'longitude': -76.62224}          [delivery]   \n",
       "1  {'latitude': 39.2870995, 'longitude': -76.6053...  [delivery, pickup]   \n",
       "2     {'latitude': 39.28214, 'longitude': -76.59162}          [delivery]   \n",
       "\n",
       "  price                                           location         phone  \\\n",
       "0    $$  {'address1': '203 N Paca St', 'address2': '', ...  +14107274898   \n",
       "1    $$  {'address1': '750 E Pratt St', 'address2': '',...  +14105285373   \n",
       "2   $$$  {'address1': '1728 Thames St', 'address2': '',...  +14434497726   \n",
       "\n",
       "    display_phone     distance  \n",
       "0  (410) 727-4898  1349.560720  \n",
       "1  (410) 528-5373  1028.736468  \n",
       "2  (443) 449-7726  2090.712792  "
      ]
     },
     "metadata": {},
     "output_type": "display_data"
    },
    {
     "data": {
      "text/html": [
       "<div>\n",
       "<style scoped>\n",
       "    .dataframe tbody tr th:only-of-type {\n",
       "        vertical-align: middle;\n",
       "    }\n",
       "\n",
       "    .dataframe tbody tr th {\n",
       "        vertical-align: top;\n",
       "    }\n",
       "\n",
       "    .dataframe thead th {\n",
       "        text-align: right;\n",
       "    }\n",
       "</style>\n",
       "<table border=\"1\" class=\"dataframe\">\n",
       "  <thead>\n",
       "    <tr style=\"text-align: right;\">\n",
       "      <th></th>\n",
       "      <th>id</th>\n",
       "      <th>alias</th>\n",
       "      <th>name</th>\n",
       "      <th>image_url</th>\n",
       "      <th>is_closed</th>\n",
       "      <th>url</th>\n",
       "      <th>review_count</th>\n",
       "      <th>categories</th>\n",
       "      <th>rating</th>\n",
       "      <th>coordinates</th>\n",
       "      <th>transactions</th>\n",
       "      <th>price</th>\n",
       "      <th>location</th>\n",
       "      <th>phone</th>\n",
       "      <th>display_phone</th>\n",
       "      <th>distance</th>\n",
       "    </tr>\n",
       "  </thead>\n",
       "  <tbody>\n",
       "    <tr>\n",
       "      <th>37</th>\n",
       "      <td>O7EO2AHxQXRHL1fqodpg7Q</td>\n",
       "      <td>daily-special-authentic-mexican-grill-baltimore-3</td>\n",
       "      <td>Daily Special authentic mexican grill</td>\n",
       "      <td>https://s3-media2.fl.yelpcdn.com/bphoto/76IbRS...</td>\n",
       "      <td>False</td>\n",
       "      <td>https://www.yelp.com/biz/daily-special-authent...</td>\n",
       "      <td>24</td>\n",
       "      <td>[{'alias': 'burgers', 'title': 'Burgers'}, {'a...</td>\n",
       "      <td>4.5</td>\n",
       "      <td>{'latitude': 39.29133, 'longitude': -76.61497}</td>\n",
       "      <td>[restaurant_reservation, pickup, delivery]</td>\n",
       "      <td>NaN</td>\n",
       "      <td>{'address1': '201 N Charles St', 'address2': N...</td>\n",
       "      <td>+14106895603</td>\n",
       "      <td>(410) 689-5603</td>\n",
       "      <td>818.337595</td>\n",
       "    </tr>\n",
       "    <tr>\n",
       "      <th>38</th>\n",
       "      <td>ynbOCrd_UK6IyDgEamb4gw</td>\n",
       "      <td>shoyou-sushi-baltimore</td>\n",
       "      <td>Shoyou Sushi</td>\n",
       "      <td>https://s3-media4.fl.yelpcdn.com/bphoto/jFUvyW...</td>\n",
       "      <td>False</td>\n",
       "      <td>https://www.yelp.com/biz/shoyou-sushi-baltimor...</td>\n",
       "      <td>597</td>\n",
       "      <td>[{'alias': 'sushi', 'title': 'Sushi Bars'}, {'...</td>\n",
       "      <td>4.5</td>\n",
       "      <td>{'latitude': 39.2728666047061, 'longitude': -7...</td>\n",
       "      <td>[delivery]</td>\n",
       "      <td>$$</td>\n",
       "      <td>{'address1': '1450 Light St', 'address2': '', ...</td>\n",
       "      <td>+14106852989</td>\n",
       "      <td>(410) 685-2989</td>\n",
       "      <td>2618.696592</td>\n",
       "    </tr>\n",
       "    <tr>\n",
       "      <th>39</th>\n",
       "      <td>PCU5mBJn44Nfj571TgkhmA</td>\n",
       "      <td>water-for-chocolate-baltimore</td>\n",
       "      <td>Water for Chocolate</td>\n",
       "      <td>https://s3-media1.fl.yelpcdn.com/bphoto/O24M4j...</td>\n",
       "      <td>False</td>\n",
       "      <td>https://www.yelp.com/biz/water-for-chocolate-b...</td>\n",
       "      <td>898</td>\n",
       "      <td>[{'alias': 'breakfast_brunch', 'title': 'Break...</td>\n",
       "      <td>4.5</td>\n",
       "      <td>{'latitude': 39.29032, 'longitude': -76.5905}</td>\n",
       "      <td>[pickup]</td>\n",
       "      <td>$$</td>\n",
       "      <td>{'address1': '1841 E Lombard St', 'address2': ...</td>\n",
       "      <td>+14106757778</td>\n",
       "      <td>(410) 675-7778</td>\n",
       "      <td>1611.581406</td>\n",
       "    </tr>\n",
       "  </tbody>\n",
       "</table>\n",
       "</div>"
      ],
      "text/plain": [
       "                        id                                              alias  \\\n",
       "37  O7EO2AHxQXRHL1fqodpg7Q  daily-special-authentic-mexican-grill-baltimore-3   \n",
       "38  ynbOCrd_UK6IyDgEamb4gw                             shoyou-sushi-baltimore   \n",
       "39  PCU5mBJn44Nfj571TgkhmA                      water-for-chocolate-baltimore   \n",
       "\n",
       "                                     name  \\\n",
       "37  Daily Special authentic mexican grill   \n",
       "38                           Shoyou Sushi   \n",
       "39                    Water for Chocolate   \n",
       "\n",
       "                                            image_url  is_closed  \\\n",
       "37  https://s3-media2.fl.yelpcdn.com/bphoto/76IbRS...      False   \n",
       "38  https://s3-media4.fl.yelpcdn.com/bphoto/jFUvyW...      False   \n",
       "39  https://s3-media1.fl.yelpcdn.com/bphoto/O24M4j...      False   \n",
       "\n",
       "                                                  url  review_count  \\\n",
       "37  https://www.yelp.com/biz/daily-special-authent...            24   \n",
       "38  https://www.yelp.com/biz/shoyou-sushi-baltimor...           597   \n",
       "39  https://www.yelp.com/biz/water-for-chocolate-b...           898   \n",
       "\n",
       "                                           categories  rating  \\\n",
       "37  [{'alias': 'burgers', 'title': 'Burgers'}, {'a...     4.5   \n",
       "38  [{'alias': 'sushi', 'title': 'Sushi Bars'}, {'...     4.5   \n",
       "39  [{'alias': 'breakfast_brunch', 'title': 'Break...     4.5   \n",
       "\n",
       "                                          coordinates  \\\n",
       "37     {'latitude': 39.29133, 'longitude': -76.61497}   \n",
       "38  {'latitude': 39.2728666047061, 'longitude': -7...   \n",
       "39      {'latitude': 39.29032, 'longitude': -76.5905}   \n",
       "\n",
       "                                  transactions price  \\\n",
       "37  [restaurant_reservation, pickup, delivery]   NaN   \n",
       "38                                  [delivery]    $$   \n",
       "39                                    [pickup]    $$   \n",
       "\n",
       "                                             location         phone  \\\n",
       "37  {'address1': '201 N Charles St', 'address2': N...  +14106895603   \n",
       "38  {'address1': '1450 Light St', 'address2': '', ...  +14106852989   \n",
       "39  {'address1': '1841 E Lombard St', 'address2': ...  +14106757778   \n",
       "\n",
       "     display_phone     distance  \n",
       "37  (410) 689-5603   818.337595  \n",
       "38  (410) 685-2989  2618.696592  \n",
       "39  (410) 675-7778  1611.581406  "
      ]
     },
     "metadata": {},
     "output_type": "display_data"
    }
   ],
   "source": [
    "businesses = pd.concat([biz, biz30],\n",
    "                      ignore_index=True)\n",
    "display(businesses.head(3), businesses.tail(3))\n"
   ]
  },
  {
   "cell_type": "code",
   "execution_count": null,
   "id": "69eebbe8",
   "metadata": {},
   "outputs": [],
   "source": []
  }
 ],
 "metadata": {
  "kernelspec": {
   "display_name": "Python (dojo-env)",
   "language": "python",
   "name": "dojo-env"
  },
  "language_info": {
   "codemirror_mode": {
    "name": "ipython",
    "version": 3
   },
   "file_extension": ".py",
   "mimetype": "text/x-python",
   "name": "python",
   "nbconvert_exporter": "python",
   "pygments_lexer": "ipython3",
   "version": "3.7.12"
  },
  "toc": {
   "base_numbering": 1,
   "nav_menu": {},
   "number_sections": false,
   "sideBar": true,
   "skip_h1_title": false,
   "title_cell": "Table of Contents",
   "title_sidebar": "Contents",
   "toc_cell": false,
   "toc_position": {},
   "toc_section_display": true,
   "toc_window_display": false
  }
 },
 "nbformat": 4,
 "nbformat_minor": 5
}
